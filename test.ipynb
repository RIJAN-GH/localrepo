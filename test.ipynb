{
 "cells": [
  {
   "cell_type": "code",
   "execution_count": 1,
   "metadata": {},
   "outputs": [],
   "source": [
    "\"\"\"\n",
    "Input: sentence = \"i love eating burger\", searchWord = \"burg\"\n",
    "Output: 4\n",
    "Explanation: \"burg\" is prefix of \"burger\" which is the 4th word in the sentence.\n",
    "\"\"\"\n",
    "\n",
    "sentence = \"i love eating burger\"\n",
    "search_word = \"eat\"\n",
    "word = sentence.split()\n",
    "for x in word:\n",
    "    for y in range(0,3):\n",
    "        if y == search_word:\n",
    "            print(sentence.find())"
   ]
  },
  {
   "cell_type": "code",
   "execution_count": 2,
   "metadata": {},
   "outputs": [
    {
     "name": "stdout",
     "output_type": "stream",
     "text": [
      "[0, 1]\n"
     ]
    }
   ],
   "source": [
    "# Input: nums = [2,7,11,15], target = 9\n",
    "# Output: [0,1]\n",
    "# Explanation: Because nums[0] + nums[1] == 9, we return [0, 1].\n",
    "\n",
    "class Solution:\n",
    "    def __init__(self, nums, target):\n",
    "        self.nums = nums\n",
    "        self.target = target \n",
    "        \n",
    "    def twoSum(self):\n",
    "        \"\"\"\n",
    "        :type nums: List[int]\n",
    "        :type target: int\n",
    "        :rtype: List[int]\n",
    "        \"\"\"\n",
    "        seen = {}\n",
    "        for i, num in enumerate(self.nums):\n",
    "            complement = self.target - num\n",
    "            if complement in seen:\n",
    "                return [seen[complement], i]\n",
    "            seen[num] = i\n",
    "        return[]\n",
    "        \n",
    "nums = [2,7,11,15]\n",
    "target = 9\n",
    "p1 = Solution(nums, target)\n",
    "result = p1.twoSum()\n",
    "print(result)"
   ]
  },
  {
   "cell_type": "code",
   "execution_count": 30,
   "metadata": {},
   "outputs": [
    {
     "name": "stdout",
     "output_type": "stream",
     "text": [
      "[7, 0, 8]\n"
     ]
    }
   ],
   "source": [
    "\"\"\"\n",
    "Input: l1 = [2,4,3], l2 = [5,6,4]\n",
    "Output: [7,0,8]\n",
    "Explanation: 342 + 465 = 807.\n",
    "\"\"\"\n",
    "class Solution():\n",
    "    def __init__(self, l1, l2):\n",
    "        self.l1 = l1\n",
    "        self.l2 = l2\n",
    "\n",
    "    def addTwoNumbers(self):\n",
    "        \"\"\"\n",
    "        :type l1: Optional[ListNode]\n",
    "        :type l2: Optional[ListNode]\n",
    "        :rtype: Optional[ListNode]\n",
    "        \"\"\"\n",
    "        l1_num = 0\n",
    "        for x in self.l1:\n",
    "            l1_num = l1_num * 10 + x\n",
    "        \n",
    "        l2_num = 0 \n",
    "        for x in self.l2:\n",
    "            l2_num = l2_num *10 + x\n",
    "        \n",
    "        sum = l1_num + l2_num\n",
    "        return list(map(int, str(sum)[::-1]))\n",
    "\n",
    "l1 = [2,4,3] \n",
    "l2 = [5,6,4]\n",
    "l1.reverse()\n",
    "l2.reverse()\n",
    "p1 = Solution(l1, l2)\n",
    "result =  p1.addTwoNumbers()\n",
    "print(result)\n",
    "        "
   ]
  },
  {
   "cell_type": "code",
   "execution_count": 13,
   "metadata": {},
   "outputs": [
    {
     "data": {
      "text/plain": [
       "True"
      ]
     },
     "execution_count": 13,
     "metadata": {},
     "output_type": "execute_result"
    }
   ],
   "source": [
    "class Solution:\n",
    "    def isPalindrome(self, x):\n",
    "        \"\"\"\n",
    "        :type x: int\n",
    "        :rtype: bool\n",
    "        \"\"\"\n",
    "        if x < 0 or x%10 == 0 and x != 0 :\n",
    "            return False\n",
    "        reversed_x = 0\n",
    "        original_x = x\n",
    "        while x > 0:\n",
    "            reversed_x = reversed_x * 10 + x % 10\n",
    "            x //= 10\n",
    "        return original_x == reversed_x\n",
    "        \n",
    "x = int(input(\"Enter any number:\"))\n",
    "p1 = Solution()\n",
    "p1.isPalindrome(x)\n",
    "\n"
   ]
  }
 ],
 "metadata": {
  "kernelspec": {
   "display_name": "Python 3",
   "language": "python",
   "name": "python3"
  },
  "language_info": {
   "codemirror_mode": {
    "name": "ipython",
    "version": 3
   },
   "file_extension": ".py",
   "mimetype": "text/x-python",
   "name": "python",
   "nbconvert_exporter": "python",
   "pygments_lexer": "ipython3",
   "version": "3.12.4"
  }
 },
 "nbformat": 4,
 "nbformat_minor": 2
}
